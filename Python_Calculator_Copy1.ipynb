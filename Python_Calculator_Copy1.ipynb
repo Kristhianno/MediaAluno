{
  "nbformat": 4,
  "nbformat_minor": 5,
  "metadata": {
    "kernelspec": {
      "display_name": "Python 3",
      "language": "python",
      "name": "python3"
    },
    "language_info": {
      "codemirror_mode": {
        "name": "ipython",
        "version": 3
      },
      "file_extension": ".py",
      "mimetype": "text/x-python",
      "name": "python",
      "nbconvert_exporter": "python",
      "pygments_lexer": "ipython3",
      "version": "3.8.8"
    },
    "colab": {
      "name": "Python_Calculator-Copy1.ipynb",
      "provenance": [],
      "include_colab_link": true
    }
  },
  "cells": [
    {
      "cell_type": "markdown",
      "metadata": {
        "id": "view-in-github",
        "colab_type": "text"
      },
      "source": [
        "<a href=\"https://colab.research.google.com/github/Kristhianno/Primeiro_Programa/blob/master/Python_Calculator_Copy1.ipynb\" target=\"_parent\"><img src=\"https://colab.research.google.com/assets/colab-badge.svg\" alt=\"Open In Colab\"/></a>"
      ]
    },
    {
      "cell_type": "code",
      "metadata": {
        "id": "a564519b"
      },
      "source": [
        "# Criando um Calculadora Python "
      ],
      "id": "a564519b",
      "execution_count": null,
      "outputs": []
    },
    {
      "cell_type": "code",
      "metadata": {
        "id": "925e2935",
        "outputId": "bde425b3-a056-49bc-87a1-bfc787c92968"
      },
      "source": [
        "print('*********** Python Calculator **********\\n')\n",
        "\n",
        "\n",
        "print('Selecione o número da operação desejada:\\n')\n",
        "\n",
        "print('1 - Soma  ', '\\n2 - Subtração  ','\\n3 - Multiplicação  ','\\n4 - Divisão  ','\\n')\n",
        "\n",
        "def soma(num_1, num_2):\n",
        "    resultado = num_1 + num_2\n",
        "    print('\\nO Resultado de:', num_1,'+', num_2,'=', resultado,'\\n')\n",
        "    \n",
        "def subtracao(num_1, num_2):\n",
        "    resultado = num_1 - num_2\n",
        "    print('\\nO Resultado de:', num_1,'-', num_2,'=', resultado,'\\n')\n",
        "    \n",
        "def multiplicacao(num_1, num_2):\n",
        "    resultado = num_1 * num_2\n",
        "    print('\\nO Resultado de:', num_1,'*', num_2,'=', resultado,'\\n')\n",
        "    \n",
        "def divisao(num_1, num_2):\n",
        "    resultado = num_1 // num_2\n",
        "    print('\\nO Resultado de:', num_1,'/', num_2,'=', resultado,'\\n')\n",
        "\n",
        "\n",
        "opcao = int(input('Digite sua opção (1/2/3/4): '))\n",
        "\n",
        "if opcao == 1:    \n",
        "    num_1 = int(input('\\nDigite o primeiro número: '))\n",
        "    num_2 = int(input('\\nDigite o segundo número: '))\n",
        "    print(soma(num_1,num_2))\n",
        "\n",
        "elif opcao == 2:    \n",
        "    num_1 = int(input('\\nDigite o primeiro número: '))\n",
        "    num_2 = int(input('\\nDigite o segundo número: '))\n",
        "    print(subtracao(num_1,num_2))\n",
        "    \n",
        "elif opcao == 3:    \n",
        "    num_1 = int(input('\\nDigite o primeiro número: '))\n",
        "    num_2 = int(input('\\nDigite o segundo número: '))\n",
        "    print(multiplicacao(num_1,num_2))\n",
        "    \n",
        "elif opcao == 4:    \n",
        "    num_1 = int(input('\\nDigite o primeiro número: '))\n",
        "    num_2 = int(input('\\nDigite o segundo número: '))\n",
        "    print(divisao(num_1,num_2))\n",
        "    \n",
        "else:\n",
        "    print('\\nOpção Inválida')\n",
        "     \n",
        "   "
      ],
      "id": "925e2935",
      "execution_count": null,
      "outputs": [
        {
          "name": "stdout",
          "output_type": "stream",
          "text": [
            "*********** Python Calculator **********\n",
            "\n",
            "Selecione o número da operação desejada:\n",
            "\n",
            "1 - Soma   \n",
            "2 - Subtração   \n",
            "3 - Multiplicação   \n",
            "4 - Divisão   \n",
            "\n",
            "Digite sua opção (1/2/3/4): 1\n",
            "\n",
            "Digite o primeiro número: 2\n",
            "\n",
            "Digite o segundo número: 5\n",
            "\n",
            "O Resultado de: 2 + 5 = 7 \n",
            "\n",
            "None\n"
          ]
        }
      ]
    }
  ]
}